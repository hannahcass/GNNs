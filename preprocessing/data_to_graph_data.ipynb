{
 "cells": [
  {
   "cell_type": "code",
   "execution_count": 11,
   "metadata": {},
   "outputs": [],
   "source": [
    "import pandas as pd\n",
    "from sklearn.preprocessing import LabelEncoder\n",
    "from sklearn.feature_extraction.text import TfidfVectorizer\n",
    "import torch\n",
    "from torch_geometric.data import Data\n",
    "import numpy as np"
   ]
  },
  {
   "cell_type": "code",
   "execution_count": 6,
   "metadata": {},
   "outputs": [],
   "source": [
    "df = pd.read_csv('../data/processed_data/data.csv')"
   ]
  },
  {
   "cell_type": "code",
   "execution_count": 7,
   "metadata": {},
   "outputs": [
    {
     "data": {
      "text/html": [
       "<div>\n",
       "<style scoped>\n",
       "    .dataframe tbody tr th:only-of-type {\n",
       "        vertical-align: middle;\n",
       "    }\n",
       "\n",
       "    .dataframe tbody tr th {\n",
       "        vertical-align: top;\n",
       "    }\n",
       "\n",
       "    .dataframe thead th {\n",
       "        text-align: right;\n",
       "    }\n",
       "</style>\n",
       "<table border=\"1\" class=\"dataframe\">\n",
       "  <thead>\n",
       "    <tr style=\"text-align: right;\">\n",
       "      <th></th>\n",
       "      <th>Id</th>\n",
       "      <th>ASIN</th>\n",
       "      <th>title</th>\n",
       "      <th>group</th>\n",
       "      <th>salesrank</th>\n",
       "      <th>similar</th>\n",
       "      <th>categories</th>\n",
       "      <th>total_reviews</th>\n",
       "      <th>avg_rating</th>\n",
       "    </tr>\n",
       "  </thead>\n",
       "  <tbody>\n",
       "    <tr>\n",
       "      <th>0</th>\n",
       "      <td>1</td>\n",
       "      <td>0827229534</td>\n",
       "      <td>Patterns of Preaching</td>\n",
       "      <td>Book</td>\n",
       "      <td>396585</td>\n",
       "      <td>0804215715 156101074X 0687023955 0687074231 08...</td>\n",
       "      <td>|Books[283155]|Subjects[1000]|Religion &amp; Spiri...</td>\n",
       "      <td>2</td>\n",
       "      <td>5.0</td>\n",
       "    </tr>\n",
       "    <tr>\n",
       "      <th>1</th>\n",
       "      <td>2</td>\n",
       "      <td>0738700797</td>\n",
       "      <td>Candlemas</td>\n",
       "      <td>Book</td>\n",
       "      <td>168596</td>\n",
       "      <td>0738700827 1567184960 1567182836 0738700525 07...</td>\n",
       "      <td>|Books[283155]|Subjects[1000]|Religion &amp; Spiri...</td>\n",
       "      <td>12</td>\n",
       "      <td>4.5</td>\n",
       "    </tr>\n",
       "    <tr>\n",
       "      <th>3</th>\n",
       "      <td>4</td>\n",
       "      <td>0842328327</td>\n",
       "      <td>Life Application Bible Commentary</td>\n",
       "      <td>Book</td>\n",
       "      <td>631289</td>\n",
       "      <td>0842328130 0830818138 0842330313 0842328610 08...</td>\n",
       "      <td>|Books[283155]|Subjects[1000]|Religion &amp; Spiri...</td>\n",
       "      <td>1</td>\n",
       "      <td>4.0</td>\n",
       "    </tr>\n",
       "    <tr>\n",
       "      <th>4</th>\n",
       "      <td>5</td>\n",
       "      <td>1577943082</td>\n",
       "      <td>Prayers That Avail Much for Business</td>\n",
       "      <td>Book</td>\n",
       "      <td>455160</td>\n",
       "      <td>157794349X 0892749504 1577941829 0892749563 15...</td>\n",
       "      <td>|Books[283155]|Subjects[1000]|Religion &amp; Spiri...</td>\n",
       "      <td>0</td>\n",
       "      <td>0.0</td>\n",
       "    </tr>\n",
       "    <tr>\n",
       "      <th>5</th>\n",
       "      <td>6</td>\n",
       "      <td>0486220125</td>\n",
       "      <td>How the Other Half Lives</td>\n",
       "      <td>Book</td>\n",
       "      <td>188784</td>\n",
       "      <td>0486401960 0452283612 0486229076 0714840343 03...</td>\n",
       "      <td>|Books[283155]|Subjects[1000]|Arts &amp; Photograp...</td>\n",
       "      <td>17</td>\n",
       "      <td>4.0</td>\n",
       "    </tr>\n",
       "  </tbody>\n",
       "</table>\n",
       "</div>"
      ],
      "text/plain": [
       "   Id        ASIN                                 title group  salesrank  \\\n",
       "0   1  0827229534                 Patterns of Preaching  Book     396585   \n",
       "1   2  0738700797                             Candlemas  Book     168596   \n",
       "3   4  0842328327     Life Application Bible Commentary  Book     631289   \n",
       "4   5  1577943082  Prayers That Avail Much for Business  Book     455160   \n",
       "5   6  0486220125              How the Other Half Lives  Book     188784   \n",
       "\n",
       "                                             similar  \\\n",
       "0  0804215715 156101074X 0687023955 0687074231 08...   \n",
       "1  0738700827 1567184960 1567182836 0738700525 07...   \n",
       "3  0842328130 0830818138 0842330313 0842328610 08...   \n",
       "4  157794349X 0892749504 1577941829 0892749563 15...   \n",
       "5  0486401960 0452283612 0486229076 0714840343 03...   \n",
       "\n",
       "                                          categories  total_reviews  \\\n",
       "0  |Books[283155]|Subjects[1000]|Religion & Spiri...              2   \n",
       "1  |Books[283155]|Subjects[1000]|Religion & Spiri...             12   \n",
       "3  |Books[283155]|Subjects[1000]|Religion & Spiri...              1   \n",
       "4  |Books[283155]|Subjects[1000]|Religion & Spiri...              0   \n",
       "5  |Books[283155]|Subjects[1000]|Arts & Photograp...             17   \n",
       "\n",
       "   avg_rating  \n",
       "0         5.0  \n",
       "1         4.5  \n",
       "3         4.0  \n",
       "4         0.0  \n",
       "5         4.0  "
      ]
     },
     "execution_count": 7,
     "metadata": {},
     "output_type": "execute_result"
    }
   ],
   "source": [
    "df = df.dropna()\n",
    "df.head()"
   ]
  },
  {
   "cell_type": "code",
   "execution_count": 8,
   "metadata": {},
   "outputs": [
    {
     "name": "stdout",
     "output_type": "stream",
     "text": [
      "<class 'pandas.core.frame.DataFrame'>\n",
      "Index: 372183 entries, 0 to 542681\n",
      "Data columns (total 9 columns):\n",
      " #   Column         Non-Null Count   Dtype  \n",
      "---  ------         --------------   -----  \n",
      " 0   Id             372183 non-null  int64  \n",
      " 1   ASIN           372183 non-null  object \n",
      " 2   title          372183 non-null  object \n",
      " 3   group          372183 non-null  object \n",
      " 4   salesrank      372183 non-null  int64  \n",
      " 5   similar        372183 non-null  object \n",
      " 6   categories     372183 non-null  object \n",
      " 7   total_reviews  372183 non-null  int64  \n",
      " 8   avg_rating     372183 non-null  float64\n",
      "dtypes: float64(1), int64(3), object(5)\n",
      "memory usage: 28.4+ MB\n"
     ]
    }
   ],
   "source": [
    "df.info()"
   ]
  },
  {
   "cell_type": "code",
   "execution_count": 9,
   "metadata": {},
   "outputs": [
    {
     "name": "stdout",
     "output_type": "stream",
     "text": [
      "(372183, 100)\n"
     ]
    }
   ],
   "source": [
    "df['text'] = df['title'] + ' ' + df['categories']\n",
    "\n",
    "vectorizer = TfidfVectorizer(max_features=100)\n",
    "tfidf_features = vectorizer.fit_transform(df['text']).toarray()\n",
    "\n",
    "print(tfidf_features.shape)"
   ]
  },
  {
   "cell_type": "code",
   "execution_count": 28,
   "metadata": {},
   "outputs": [],
   "source": [
    "group_encoder = LabelEncoder()\n",
    "df['group_encoded'] = group_encoder.fit_transform(df['group'])\n",
    "labels = torch.tensor(df['group_encoded'].values, dtype=torch.long)\n",
    "df['salesrank_normalized'] = df['salesrank'] / df['salesrank'].max()\n",
    "\n",
    "other_features = df[['salesrank_normalized', 'group_encoded']].to_numpy()\n",
    "combined_features = np.hstack([other_features, tfidf_features])\n"
   ]
  },
  {
   "cell_type": "code",
   "execution_count": 29,
   "metadata": {},
   "outputs": [],
   "source": [
    "edges = []\n",
    "asin_to_index = {asin: idx for idx, asin in enumerate(df['ASIN'].unique())}\n",
    "\n",
    "for _, row in df.iterrows():\n",
    "    node_idx = asin_to_index[row['ASIN']]\n",
    "    if pd.isna(row['similar']) or row['similar'] == '':\n",
    "        continue\n",
    "    similar_asins = row['similar'].split()\n",
    "    for asin in similar_asins:\n",
    "        if asin in asin_to_index:\n",
    "            similar_idx = asin_to_index[asin]\n",
    "            edges.append((node_idx, similar_idx))\n"
   ]
  },
  {
   "cell_type": "code",
   "execution_count": 30,
   "metadata": {},
   "outputs": [
    {
     "name": "stdout",
     "output_type": "stream",
     "text": [
      "Found 1199750 edges.\n"
     ]
    }
   ],
   "source": [
    "if edges:\n",
    "    print(f\"Found {len(edges)} edges.\")\n",
    "    edge_index = torch.tensor(edges, dtype=torch.long).t().contiguous()\n",
    "else:\n",
    "    print(\"No edges found. Check the edge creation process.\")\n"
   ]
  },
  {
   "cell_type": "code",
   "execution_count": 31,
   "metadata": {},
   "outputs": [],
   "source": [
    "x = torch.tensor(combined_features, dtype=torch.float)\n",
    "data = Data(x=x, edge_index=edge_index, y=labels)\n",
    "torch.save(data, '../data/processed_data/graph_data.pt')"
   ]
  }
 ],
 "metadata": {
  "kernelspec": {
   "display_name": "gnns",
   "language": "python",
   "name": "python3"
  },
  "language_info": {
   "codemirror_mode": {
    "name": "ipython",
    "version": 3
   },
   "file_extension": ".py",
   "mimetype": "text/x-python",
   "name": "python",
   "nbconvert_exporter": "python",
   "pygments_lexer": "ipython3",
   "version": "3.10.13"
  }
 },
 "nbformat": 4,
 "nbformat_minor": 2
}
